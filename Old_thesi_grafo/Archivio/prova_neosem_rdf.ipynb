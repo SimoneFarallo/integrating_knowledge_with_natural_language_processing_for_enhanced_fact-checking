{
 "cells": [
  {
   "cell_type": "markdown",
   "metadata": {},
   "source": [
    "# Prova NeoSemantics\n",
    "\n",
    "https://towardsdatascience.com/traveling-tourist-part-1-import-wikidata-to-neo4j-with-neosemantics-library-f80235f40dc5\n",
    "\n",
    "Settare i plugin di neosemantics"
   ]
  },
  {
   "cell_type": "code",
   "execution_count": 2,
   "metadata": {},
   "outputs": [
    {
     "name": "stdout",
     "output_type": "stream",
     "text": [
      "Collecting graphdatascience\n",
      "  Using cached graphdatascience-1.8-py3-none-any.whl (1.6 MB)\n",
      "Requirement already satisfied: neo4j<6.0,>=4.4.2 in c:\\users\\simone\\anaconda3\\lib\\site-packages (from graphdatascience) (4.4.2)\n",
      "Requirement already satisfied: pandas<3.0,>=1.0 in c:\\users\\simone\\anaconda3\\lib\\site-packages (from graphdatascience) (1.2.4)\n",
      "Requirement already satisfied: textdistance<5.0,>=4.0 in c:\\users\\simone\\anaconda3\\lib\\site-packages (from graphdatascience) (4.2.1)\n",
      "Collecting pyarrow<14.0,>=4.0\n",
      "  Downloading pyarrow-13.0.0-cp38-cp38-win_amd64.whl (24.4 MB)\n",
      "Requirement already satisfied: tqdm<5.0,>=4.0 in c:\\users\\simone\\anaconda3\\lib\\site-packages (from graphdatascience) (4.59.0)\n",
      "Requirement already satisfied: typing-extensions<5.0,>=4.0 in c:\\users\\simone\\anaconda3\\lib\\site-packages (from graphdatascience) (4.4.0)\n",
      "Collecting multimethod<2.0,>=1.0\n",
      "  Using cached multimethod-1.10-py3-none-any.whl (9.9 kB)\n",
      "Requirement already satisfied: pytz in c:\\users\\simone\\anaconda3\\lib\\site-packages (from neo4j<6.0,>=4.4.2->graphdatascience) (2021.1)\n",
      "Requirement already satisfied: numpy>=1.16.5 in c:\\users\\simone\\anaconda3\\lib\\site-packages (from pandas<3.0,>=1.0->graphdatascience) (1.22.4)\n",
      "Requirement already satisfied: python-dateutil>=2.7.3 in c:\\users\\simone\\anaconda3\\lib\\site-packages (from pandas<3.0,>=1.0->graphdatascience) (2.8.1)\n",
      "Requirement already satisfied: six>=1.5 in c:\\users\\simone\\anaconda3\\lib\\site-packages (from python-dateutil>=2.7.3->pandas<3.0,>=1.0->graphdatascience) (1.15.0)\n",
      "Installing collected packages: pyarrow, multimethod, graphdatascience\n",
      "Successfully installed graphdatascience-1.8 multimethod-1.10 pyarrow-13.0.0\n",
      "Note: you may need to restart the kernel to use updated packages.\n"
     ]
    }
   ],
   "source": [
    "pip install graphdatascience"
   ]
  },
  {
   "cell_type": "code",
   "execution_count": null,
   "metadata": {},
   "outputs": [],
   "source": []
  },
  {
   "cell_type": "code",
   "execution_count": 7,
   "metadata": {},
   "outputs": [],
   "source": [
    "from graphdatascience import GraphDataScience\n",
    "from neo4j import GraphDatabase\n",
    "\n"
   ]
  },
  {
   "cell_type": "code",
   "execution_count": 8,
   "metadata": {},
   "outputs": [],
   "source": [
    "\n",
    "driver = GraphDatabase.driver(uri='bolt://localhost:7687', auth=('neo4j','simone98'))\n",
    "session = driver.session()\n"
   ]
  },
  {
   "cell_type": "markdown",
   "metadata": {},
   "source": [
    "Opzione di configurazione:\n",
    "\n",
    "CALL n10s.graphconfig.init();\n",
    "\n",
    "\n",
    "https://neo4j.com/labs/neosemantics/4.0/reference/"
   ]
  },
  {
   "cell_type": "code",
   "execution_count": 11,
   "metadata": {},
   "outputs": [],
   "source": [
    "\n",
    "conf='''CALL n10s.graphconfig.init({handleVocabUris: \"IGNORE\"})'''\n",
    "#session.run(conf)"
   ]
  },
  {
   "cell_type": "markdown",
   "metadata": {},
   "source": [
    "Per le ontologie con indirizzi uri devoaggiungere un  vincolo\n"
   ]
  },
  {
   "cell_type": "code",
   "execution_count": 13,
   "metadata": {},
   "outputs": [
    {
     "data": {
      "text/plain": [
       "<neo4j.work.result.Result at 0x1fa53c84190>"
      ]
     },
     "execution_count": 13,
     "metadata": {},
     "output_type": "execute_result"
    }
   ],
   "source": [
    "vincolo = '''CREATE CONSTRAINT n10s_unique_uri FOR (r:Resource)\n",
    "REQUIRE r.uri IS UNIQUE;'''\n",
    "session.run(vincolo)"
   ]
  },
  {
   "cell_type": "code",
   "execution_count": 16,
   "metadata": {},
   "outputs": [
    {
     "data": {
      "text/plain": [
       "<neo4j.work.result.Result at 0x1fa53c84910>"
      ]
     },
     "execution_count": 16,
     "metadata": {},
     "output_type": "execute_result"
    }
   ],
   "source": [
    "#cancella nodi e relazioni\n",
    "delete ='''match (n) detach delete n'''\n",
    "session.run(delete)"
   ]
  },
  {
   "cell_type": "markdown",
   "metadata": {},
   "source": [
    "# Esempio  Wiki Data"
   ]
  },
  {
   "cell_type": "code",
   "execution_count": null,
   "metadata": {},
   "outputs": [],
   "source": [
    "#Creare lo schema\n",
    "q2='''CALL apoc.schema.assert(\n",
    "  {State:['id'], City:['id']},\n",
    "  {Resource:['uri']})'''# Richiamare schema\n",
    "#session.run(q2)"
   ]
  },
  {
   "cell_type": "code",
   "execution_count": null,
   "metadata": {},
   "outputs": [
    {
     "data": {
      "text/plain": [
       "<neo4j.work.result.Result at 0x1d56c561910>"
      ]
     },
     "execution_count": 16,
     "metadata": {},
     "output_type": "execute_result"
    }
   ],
   "source": [
    "# #query paper che utilizza wikidata api per costruire il grafo\n",
    "q3='''WITH 'PREFIX sch: <http://schema.org/> \n",
    "CONSTRUCT{ ?item a sch:Monument; \n",
    "            sch:name ?monumentName; \n",
    "            sch:location ?location; \n",
    "            sch:img ?imageAsStr; \n",
    "            sch:ARCHITECTURE ?architecture. \n",
    "           ?architecture a sch:Architecture; \n",
    "            sch:name ?architectureName } \n",
    "WHERE { ?item wdt:P31 wd:Q4989906 . \n",
    "        ?item wdt:P17 wd:Q29 . \n",
    "        ?item rdfs:label ?monumentName . \n",
    "         filter(lang(?monumentName) = \"en\") \n",
    "        ?item wdt:P625 ?location . \n",
    "        ?item wdt:P149 ?architecture . \n",
    "        ?architecture rdfs:label ?architectureName .\n",
    "         filter(lang(?architectureName) = \"en\") \n",
    "        ?item wdt:P18 ?image . \n",
    "         bind(str(?image) as ?imageAsStr) }' AS sparql \n",
    "CALL n10s.rdf.import.fetch(\n",
    "  \"https://query.wikidata.org/sparql?query=\" +   \n",
    "   apoc.text.urlencode(sparql),\"JSON-LD\", \n",
    "   { headerParams: { Accept: \"application/ld+json\"} , \n",
    "     handleVocabUris: \"IGNORE\"}) \n",
    "YIELD terminationStatus, triplesLoaded\n",
    "RETURN terminationStatus, triplesLoaded''' #Caricare RDF  da WikiData\n",
    "#session.run(q3)\n"
   ]
  },
  {
   "cell_type": "markdown",
   "metadata": {},
   "source": [
    "Ricorda che dopo aver cancellato i nodi e le relazioni per caricare grafo, devi inserire vincolo"
   ]
  },
  {
   "cell_type": "code",
   "execution_count": null,
   "metadata": {},
   "outputs": [
    {
     "data": {
      "text/plain": [
       "<neo4j.work.result.Result at 0x1d56c5596a0>"
      ]
     },
     "execution_count": 14,
     "metadata": {},
     "output_type": "execute_result"
    }
   ],
   "source": [
    "#Query modificata ma bisogna inserire lo schema\n",
    "Q = '''WITH 'PREFIX sch: <http://schema.org/> \n",
    "CONSTRUCT {\n",
    "  ?item a sch:MedicalCondition;\n",
    "        sch:name ?diseaseName;\n",
    "        sch:cause ?cause;\n",
    "        sch:consequence ?consequence.\n",
    "  ?cause a sch:MedicalCondition;\n",
    "        sch:name ?causeName.\n",
    "  ?consequence a sch:MedicalCondition;\n",
    "              sch:name ?consequenceName.\n",
    "}\n",
    "WHERE {\n",
    "  ?item wdt:P31 wd:Q12136;  # Malattia (Q12136)\n",
    "        rdfs:label ?diseaseName.\n",
    "  FILTER(LANG(?diseaseName) = \"en\").\n",
    "  \n",
    "  OPTIONAL { \n",
    "    ?item wdt:P828 ?causeItem. # Proprietà per la causa della malattia\n",
    "    ?causeItem rdfs:label ?causeLabel.\n",
    "    FILTER(LANG(?causeLabel) = \"en\").\n",
    "    BIND(sch:cause AS ?cause).\n",
    "  }\n",
    "\n",
    "  OPTIONAL { \n",
    "    ?item wdt:P780 ?consequenceItem. # Proprietà per la conseguenza della malattia\n",
    "    ?consequenceItem rdfs:label ?consequenceLabel.\n",
    "    FILTER(LANG(?consequenceLabel) = \"en\").\n",
    "    BIND(sch:consequence AS ?consequence).\n",
    "  }\n",
    "}' AS sparql \n",
    "\n",
    "CALL n10s.rdf.import.fetch(\n",
    "  \"https://query.wikidata.org/sparql?query=\" +   \n",
    "   apoc.text.urlencode(sparql),\n",
    "  \"JSON-LD\", \n",
    "  { headerParams: { Accept: \"application/ld+json\"} , \n",
    "    handleVocabUris: \"IGNORE\"\n",
    "  }) \n",
    "\n",
    "YIELD terminationStatus, triplesLoaded\n",
    "RETURN terminationStatus, triplesLoaded;'''\n",
    "session.run(Q)"
   ]
  },
  {
   "cell_type": "markdown",
   "metadata": {},
   "source": [
    "Si possono scaricare i grafi da WikiData attraverso query SPARQL il problema è che i dat provengono da Wikipeida quindi come fonte non è affidabile in ambito medico"
   ]
  },
  {
   "cell_type": "markdown",
   "metadata": {},
   "source": [
    "# Ontologie Bio Portal"
   ]
  },
  {
   "cell_type": "code",
   "execution_count": 17,
   "metadata": {},
   "outputs": [
    {
     "data": {
      "text/plain": [
       "<neo4j.work.result.Result at 0x1fa53c84ac0>"
      ]
     },
     "execution_count": 17,
     "metadata": {},
     "output_type": "execute_result"
    }
   ],
   "source": [
    "brenda = '''CALL n10s.rdf.import.fetch('https://github.com/SimoneFarallo/Thesis/raw/main/Codes/KB/prova_owl.rdf',\"RDF/XML\")'''\n",
    "session.run(brenda)"
   ]
  },
  {
   "cell_type": "markdown",
   "metadata": {},
   "source": [
    "Quando carico nodi e relazioni, essi cambiano in base alla configurazine di prima:\n",
    "\n",
    "https://neo4j.com/labs/neosemantics/4.0/config/\n",
    "\n",
    "https://neo4j.com/labs/neosemantics/4.0/reference/"
   ]
  },
  {
   "cell_type": "code",
   "execution_count": 9,
   "metadata": {},
   "outputs": [
    {
     "data": {
      "text/plain": [
       "<neo4j.work.result.Result at 0x1fa53be1f70>"
      ]
     },
     "execution_count": 9,
     "metadata": {},
     "output_type": "execute_result"
    }
   ],
   "source": [
    "bionut = '''CALL n10s.rdf.import.fetch('https://github.com/SimoneFarallo/Thesis/raw/main/Codes/KB/bionutrition_cam9.owl',\"RDF/XML\")'''\n",
    "session.run(bionut)"
   ]
  },
  {
   "cell_type": "markdown",
   "metadata": {},
   "source": [
    "Non ho lo schema quindi non riescco ad estrarre i nomi"
   ]
  }
 ],
 "metadata": {
  "kernelspec": {
   "display_name": "Python 3",
   "language": "python",
   "name": "python3"
  },
  "language_info": {
   "codemirror_mode": {
    "name": "ipython",
    "version": 3
   },
   "file_extension": ".py",
   "mimetype": "text/x-python",
   "name": "python",
   "nbconvert_exporter": "python",
   "pygments_lexer": "ipython3",
   "version": "3.8.8"
  }
 },
 "nbformat": 4,
 "nbformat_minor": 2
}
