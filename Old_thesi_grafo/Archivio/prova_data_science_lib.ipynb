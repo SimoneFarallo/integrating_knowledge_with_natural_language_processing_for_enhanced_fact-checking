{
 "cells": [
  {
   "cell_type": "markdown",
   "metadata": {},
   "source": [
    "Prova KG with neo4j"
   ]
  },
  {
   "cell_type": "code",
   "execution_count": 1,
   "metadata": {},
   "outputs": [
    {
     "name": "stdout",
     "output_type": "stream",
     "text": [
      "Collecting graphdatascience\n",
      "  Downloading graphdatascience-1.8-py3-none-any.whl (1.6 MB)\n",
      "Requirement already satisfied: tqdm<5.0,>=4.0 in c:\\users\\simone\\appdata\\local\\programs\\python\\python310\\lib\\site-packages (from graphdatascience) (4.64.0)\n",
      "Collecting neo4j<6.0,>=4.4.2\n",
      "  Downloading neo4j-5.13.0.tar.gz (192 kB)\n",
      "  Installing build dependencies: started\n",
      "  Installing build dependencies: finished with status 'done'\n",
      "  Getting requirements to build wheel: started\n",
      "  Getting requirements to build wheel: finished with status 'done'\n",
      "  Installing backend dependencies: started\n",
      "  Installing backend dependencies: finished with status 'done'\n",
      "    Preparing wheel metadata: started\n",
      "    Preparing wheel metadata: finished with status 'done'\n",
      "Collecting textdistance<5.0,>=4.0\n",
      "  Downloading textdistance-4.6.0-py3-none-any.whl (31 kB)\n",
      "Collecting pyarrow<14.0,>=4.0\n",
      "  Downloading pyarrow-13.0.0-cp310-cp310-win_amd64.whl (24.3 MB)\n",
      "Requirement already satisfied: typing-extensions<5.0,>=4.0 in c:\\users\\simone\\appdata\\local\\programs\\python\\python310\\lib\\site-packages (from graphdatascience) (4.5.0)\n",
      "Collecting multimethod<2.0,>=1.0\n",
      "  Downloading multimethod-1.10-py3-none-any.whl (9.9 kB)\n",
      "Requirement already satisfied: pandas<3.0,>=1.0 in c:\\users\\simone\\appdata\\local\\programs\\python\\python310\\lib\\site-packages (from graphdatascience) (1.4.3)\n",
      "Requirement already satisfied: pytz in c:\\users\\simone\\appdata\\local\\programs\\python\\python310\\lib\\site-packages (from neo4j<6.0,>=4.4.2->graphdatascience) (2022.1)\n",
      "Requirement already satisfied: python-dateutil>=2.8.1 in c:\\users\\simone\\appdata\\local\\programs\\python\\python310\\lib\\site-packages (from pandas<3.0,>=1.0->graphdatascience) (2.8.2)\n",
      "Requirement already satisfied: numpy>=1.21.0 in c:\\users\\simone\\appdata\\local\\programs\\python\\python310\\lib\\site-packages (from pandas<3.0,>=1.0->graphdatascience) (1.24.1)\n",
      "Requirement already satisfied: six>=1.5 in c:\\users\\simone\\appdata\\local\\programs\\python\\python310\\lib\\site-packages (from python-dateutil>=2.8.1->pandas<3.0,>=1.0->graphdatascience) (1.16.0)\n",
      "Requirement already satisfied: colorama in c:\\users\\simone\\appdata\\local\\programs\\python\\python310\\lib\\site-packages (from tqdm<5.0,>=4.0->graphdatascience) (0.4.6)\n",
      "Building wheels for collected packages: neo4j\n",
      "  Building wheel for neo4j (PEP 517): started\n",
      "  Building wheel for neo4j (PEP 517): finished with status 'done'\n",
      "  Created wheel for neo4j: filename=neo4j-5.13.0-py3-none-any.whl size=265336 sha256=6e72efda2396264f92f36ffd90839b7a7f3b0f72cac397377c42a5fc8d08f218\n",
      "  Stored in directory: c:\\users\\simone\\appdata\\local\\pip\\cache\\wheels\\7b\\1d\\b6\\1be3a1e9de57bc832b7fcebbbf884186d8155bb6f1cc45be99\n",
      "Successfully built neo4j\n",
      "Installing collected packages: textdistance, pyarrow, neo4j, multimethod, graphdatascience\n",
      "Successfully installed graphdatascience-1.8 multimethod-1.10 neo4j-5.13.0 pyarrow-13.0.0 textdistance-4.6.0\n",
      "Note: you may need to restart the kernel to use updated packages.\n"
     ]
    },
    {
     "name": "stderr",
     "output_type": "stream",
     "text": [
      "WARNING: You are using pip version 21.2.3; however, version 23.2.1 is available.\n",
      "You should consider upgrading via the 'c:\\Users\\Simone\\AppData\\Local\\Programs\\Python\\Python310\\python.exe -m pip install --upgrade pip' command.\n"
     ]
    }
   ],
   "source": [
    "#pip install graphdatascience"
   ]
  },
  {
   "cell_type": "code",
   "execution_count": 11,
   "metadata": {},
   "outputs": [],
   "source": [
    "from graphdatascience import GraphDataScience\n",
    "import seaborn as sns\n",
    "import matplotlib.pyplot as plt"
   ]
  },
  {
   "cell_type": "code",
   "execution_count": 2,
   "metadata": {},
   "outputs": [],
   "source": [
    "host = \"bolt://localhost:7687\"\n",
    "user = \"neo4j\"\n",
    "password= \"simone98\"\n",
    "\n",
    "gds = GraphDataScience(host, auth=(user, password))"
   ]
  },
  {
   "cell_type": "code",
   "execution_count": 3,
   "metadata": {},
   "outputs": [
    {
     "data": {
      "text/html": [
       "<div>\n",
       "<style scoped>\n",
       "    .dataframe tbody tr th:only-of-type {\n",
       "        vertical-align: middle;\n",
       "    }\n",
       "\n",
       "    .dataframe tbody tr th {\n",
       "        vertical-align: top;\n",
       "    }\n",
       "\n",
       "    .dataframe thead th {\n",
       "        text-align: right;\n",
       "    }\n",
       "</style>\n",
       "<table border=\"1\" class=\"dataframe\">\n",
       "  <thead>\n",
       "    <tr style=\"text-align: right;\">\n",
       "      <th></th>\n",
       "    </tr>\n",
       "  </thead>\n",
       "  <tbody>\n",
       "  </tbody>\n",
       "</table>\n",
       "</div>"
      ],
      "text/plain": [
       "Empty DataFrame\n",
       "Columns: []\n",
       "Index: []"
      ]
     },
     "execution_count": 3,
     "metadata": {},
     "output_type": "execute_result"
    }
   ],
   "source": [
    "query = \"\"\"\n",
    "LOAD CSV WITH HEADERS FROM $url AS row\n",
    "MERGE (s:Character {name:row.source})\n",
    "MERGE (t:Character {name:row.target})\n",
    "MERGE (s)-[i:INTERACTS]->(t)\n",
    "SET i.weight = toInteger(row.weight)\n",
    "\"\"\"\n",
    "params = {'url': 'https://raw.githubusercontent.com/tomasonjo/blog-datasets/main/HP/hp_1.csv'}\n",
    "gds.run_cypher(query, params)"
   ]
  },
  {
   "cell_type": "code",
   "execution_count": 5,
   "metadata": {},
   "outputs": [
    {
     "name": "stderr",
     "output_type": "stream",
     "text": [
      "Loading: 100%|██████████| 100.0/100 [00:06<00:00, 16.54%/s] \n"
     ]
    }
   ],
   "source": [
    "G, metadata = gds.graph.project(\n",
    "    \"hp-graph\", \n",
    "    \"Character\",\n",
    "    {\"INTERACTS\": {\"orientation\": \"UNDIRECTED\", \"properties\": [\"weight\"]}}\n",
    ")"
   ]
  },
  {
   "cell_type": "code",
   "execution_count": 6,
   "metadata": {},
   "outputs": [
    {
     "name": "stdout",
     "output_type": "stream",
     "text": [
      "hp-graph\n",
      "2355 KiB\n",
      "0.05782652043868395\n"
     ]
    }
   ],
   "source": [
    "\n",
    "print(G.name()) # hp-graph\n",
    "print(G.memory_usage()) # 2341 KiB\n",
    "print(G.density()) # 0.05782652043868395"
   ]
  },
  {
   "cell_type": "code",
   "execution_count": 7,
   "metadata": {},
   "outputs": [
    {
     "data": {
      "text/html": [
       "<div>\n",
       "<style scoped>\n",
       "    .dataframe tbody tr th:only-of-type {\n",
       "        vertical-align: middle;\n",
       "    }\n",
       "\n",
       "    .dataframe tbody tr th {\n",
       "        vertical-align: top;\n",
       "    }\n",
       "\n",
       "    .dataframe thead th {\n",
       "        text-align: right;\n",
       "    }\n",
       "</style>\n",
       "<table border=\"1\" class=\"dataframe\">\n",
       "  <thead>\n",
       "    <tr style=\"text-align: right;\">\n",
       "      <th></th>\n",
       "      <th>nodeId</th>\n",
       "      <th>score</th>\n",
       "    </tr>\n",
       "  </thead>\n",
       "  <tbody>\n",
       "    <tr>\n",
       "      <th>0</th>\n",
       "      <td>0</td>\n",
       "      <td>1.851142</td>\n",
       "    </tr>\n",
       "    <tr>\n",
       "      <th>1</th>\n",
       "      <td>1</td>\n",
       "      <td>3.241780</td>\n",
       "    </tr>\n",
       "    <tr>\n",
       "      <th>2</th>\n",
       "      <td>2</td>\n",
       "      <td>0.375610</td>\n",
       "    </tr>\n",
       "    <tr>\n",
       "      <th>3</th>\n",
       "      <td>3</td>\n",
       "      <td>0.375610</td>\n",
       "    </tr>\n",
       "    <tr>\n",
       "      <th>4</th>\n",
       "      <td>4</td>\n",
       "      <td>24.197442</td>\n",
       "    </tr>\n",
       "  </tbody>\n",
       "</table>\n",
       "</div>"
      ],
      "text/plain": [
       "   nodeId      score\n",
       "0       0   1.851142\n",
       "1       1   3.241780\n",
       "2       2   0.375610\n",
       "3       3   0.375610\n",
       "4       4  24.197442"
      ]
     },
     "execution_count": 7,
     "metadata": {},
     "output_type": "execute_result"
    }
   ],
   "source": [
    "\n",
    "pagerank_df = gds.pageRank.stream(G, relationshipWeightProperty=\"weight\")\n",
    "pagerank_df.head()"
   ]
  },
  {
   "cell_type": "code",
   "execution_count": 9,
   "metadata": {},
   "outputs": [],
   "source": [
    "\n",
    "pagerank_df['node_object'] = gds.util.asNodes(pagerank_df['nodeId'].to_list())"
   ]
  },
  {
   "cell_type": "code",
   "execution_count": 12,
   "metadata": {},
   "outputs": [
    {
     "data": {
      "text/plain": [
       "(array([0, 1, 2, 3, 4, 5, 6, 7, 8, 9]),\n",
       " [Text(0, 0, 'Harry Potter'),\n",
       "  Text(1, 0, 'Ronald Weasley'),\n",
       "  Text(2, 0, 'Hermione Granger'),\n",
       "  Text(3, 0, 'Rubeus Hagrid'),\n",
       "  Text(4, 0, 'Severus Snape'),\n",
       "  Text(5, 0, 'Dudley Dursley'),\n",
       "  Text(6, 0, 'Draco Malfoy'),\n",
       "  Text(7, 0, 'Vernon Dursley'),\n",
       "  Text(8, 0, 'Albus Dumbledore'),\n",
       "  Text(9, 0, 'Neville Longbottom')])"
      ]
     },
     "execution_count": 12,
     "metadata": {},
     "output_type": "execute_result"
    },
    {
     "data": {
      "image/png": "[encoded data removed]",
      "text/plain": [
       "<Figure size 1152x648 with 1 Axes>"
      ]
     },
     "metadata": {
      "needs_background": "light"
     },
     "output_type": "display_data"
    }
   ],
   "source": [
    "# Extract name properties from the node object\n",
    "pagerank_df['name'] = [n['name'] for n in pagerank_df['node_object']]\n",
    "# Draw a bar chart\n",
    "plt.figure(figsize=(16,9))\n",
    "sns.barplot(x='name', y='score', data=pagerank_df.sort_values(by='score', ascending=False).head(10))\n",
    "plt.xticks(rotation=45)"
   ]
  },
  {
   "cell_type": "code",
   "execution_count": null,
   "metadata": {},
   "outputs": [],
   "source": []
  }
 ],
 "metadata": {
  "kernelspec": {
   "display_name": "Python 3",
   "language": "python",
   "name": "python3"
  },
  "language_info": {
   "codemirror_mode": {
    "name": "ipython",
    "version": 3
   },
   "file_extension": ".py",
   "mimetype": "text/x-python",
   "name": "python",
   "nbconvert_exporter": "python",
   "pygments_lexer": "ipython3",
   "version": "3.10.0"
  }
 },
 "nbformat": 4,
 "nbformat_minor": 2
}
