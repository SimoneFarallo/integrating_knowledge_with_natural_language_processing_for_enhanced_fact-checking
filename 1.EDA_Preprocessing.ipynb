{
 "cells": [
  {
   "cell_type": "markdown",
   "metadata": {},
   "source": [
    "# Exploration Data Analysis & Pre-Processing"
   ]
  },
  {
   "cell_type": "markdown",
   "metadata": {},
   "source": [
    "## Preliminary Operations"
   ]
  },
  {
   "cell_type": "code",
   "execution_count": null,
   "metadata": {},
   "outputs": [],
   "source": [
    "import pandas as pd\n",
    "import numpy as np\n",
    "import matplotlib.pyplot as plt\n",
    "from sklearn.feature_extraction.text import ountVectorizer\n",
    "import matplotlib.pyplot as plt\n",
    "import seaborn as sns\n"
   ]
  },
  {
   "cell_type": "code",
   "execution_count": null,
   "metadata": {},
   "outputs": [],
   "source": [
    "#pd.set_option('display.max_rows', None)\n",
    "#pd.set_option('display.width', 1000) \n",
    "#pd.set_option('display.max_colwidth', None)"
   ]
  },
  {
   "cell_type": "code",
   "execution_count": null,
   "metadata": {},
   "outputs": [],
   "source": [
    "# Trattamento dei valori mancanti\n",
    "#df['claim'] = df['claim'].fillna('')  # Riempie i valori mancanti con una stringa vuota->potrebbe servire se non si applica la rimozione della punteggiatura\n",
    "\n",
    "# Converti tutte le frasi in minuscolo\n",
    "#df['claim'] = df['claim'].str.lower()\n",
    "\n",
    "# Rimuovi la punteggiatura\n",
    "#df['claim'] = df['claim'].apply(lambda x: x.translate(str.maketrans(\"\", \"\", string.punctuation)) if isinstance(x, str) else x)\n",
    "\n",
    "# Tokenization\n",
    "#df['claim'] = df['claim'].apply(lambda x: word_tokenize(x) if isinstance(x, str) else x)\n",
    "\n",
    "# Rimuovi le stop words\n",
    "#stop_words = set(stopwords.words('english'))\n",
    "#df['claim'] = df['claim'].apply(lambda x: [word for word in x if word not in stop_words] if isinstance(x, list) else x)\n",
    "\n",
    "# Lemmatizzazione\n",
    "#lemmatizer = WordNetLemmatizer()\n",
    "#df['claim'] = df['claim'].apply(lambda x: [lemmatizer.lemmatize(word) for word in x] if isinstance(x, list) else x)\n",
    "\n",
    "# Stemming\n",
    "#ps = PorterStemmer()\n",
    "#df['claim'] = df['claim'].apply(lambda x: [ps.stem(word) for word in x])"
   ]
  },
  {
   "cell_type": "markdown",
   "metadata": {},
   "source": [
    "## PubHealth Dataset\n"
   ]
  },
  {
   "cell_type": "markdown",
   "metadata": {},
   "source": [
    "### Train Dataset"
   ]
  },
  {
   "cell_type": "code",
   "execution_count": null,
   "metadata": {},
   "outputs": [],
   "source": [
    "df_train = pd.read_csv(r'Thesis\\PUBHEALTH\\train.tsv', sep='\\t')\n",
    "df_train"
   ]
  },
  {
   "cell_type": "code",
   "execution_count": null,
   "metadata": {},
   "outputs": [],
   "source": [
    "df_train[['claim_id','claim'.'explanation']].info()"
   ]
  },
  {
   "cell_type": "code",
   "execution_count": null,
   "metadata": {},
   "outputs": [],
   "source": [
    "print(\"Valori unici in 'label':\")\n",
    "print(df_train['label'].nunique())\n",
    "print(df_train['label'].unique())\n",
    "# Conta le righe con label 'true'\n",
    "true_label_count = df_train[df_train['label'] == 'true'].shape[0]\n",
    "print(f\"Numero di righe con label 'true': {true_label_count}\")\n"
   ]
  },
  {
   "cell_type": "code",
   "execution_count": null,
   "metadata": {},
   "outputs": [],
   "source": [
    "print(\"Valori unici in 'subjects':\")\n",
    "print(df_train['subjects'].nunique())\n",
    "print(df_train['subjects'].unique())"
   ]
  },
  {
   "cell_type": "code",
   "execution_count": null,
   "metadata": {},
   "outputs": [],
   "source": [
    "# Prima, convertiamo la colonna 'subjects' in una serie di liste di subjects\n",
    "subjects_series = df_train['subjects'].dropna().str.split(',')\n",
    "\n",
    "# Ora, \"esplodiamo\" questa serie in modo che ogni elemento di ogni lista diventi una riga\n",
    "exploded_subjects = subjects_series.explode()\n",
    "\n",
    "# Calcoliamo la frequenza di ogni subject unico\n",
    "subject_frequencies = exploded_subjects.value_counts()\n",
    "\n",
    "# Stampiamo le frequenze\n",
    "print(subject_frequencies)"
   ]
  },
  {
   "cell_type": "code",
   "execution_count": null,
   "metadata": {},
   "outputs": [],
   "source": [
    "# Rimuovere gli spazi bianchi all'inizio e alla fine di ogni stringa e dividere per virgola\n",
    "subjects_series = df_train['subjects'].dropna().str.strip().str.split(',')\n",
    "\n",
    "# Pulire ogni elemento all'interno delle liste rimuovendo spazi extra\n",
    "subjects_series = subjects_series.apply(lambda x: [i.strip() for i in x if i.strip() != ''])\n",
    "\n",
    "# Aggiungere un passaggio per sostituire le liste vuote con un valore che indica l'assenza di soggetti\n",
    "subjects_series = subjects_series.apply(lambda x: np.nan if len(x) == 0 else x)\n",
    "\n",
    "# \"Esplodere\" la serie per avere ogni soggetto come una riga separata\n",
    "exploded_subjects = subjects_series.explode()\n",
    "\n",
    "# Se ci sono state liste vuote, ora saranno NaN, quindi sostituire NaN con un placeholder\n",
    "# Se vuoi contare questi come una categoria separata, puoi sostituirli con una stringa specifica\n",
    "exploded_subjects = exploded_subjects.fillna('No Subject')\n",
    "\n",
    "# Calcolare le frequenze, inclusi i valori placeholder per le righe vuote\n",
    "subject_frequencies = exploded_subjects.value_counts()\n",
    "\n",
    "# Stampare le frequenze, che ora includono anche il conteggio per 'No Subject'\n",
    "print(subject_frequencies)\n",
    "print(len(subject_frequencies))\n",
    "\n"
   ]
  },
  {
   "cell_type": "code",
   "execution_count": null,
   "metadata": {},
   "outputs": [],
   "source": [
    "# Pulizia iniziale dei dati, inclusa la gestione dei soggetti vuoti\n",
    "subjects_series = df_train['subjects'].dropna().str.strip().str.split(',')\n",
    "subjects_series = subjects_series.apply(lambda x: [i.strip() for i in x if i.strip() != ''])\n",
    "subjects_series = subjects_series.apply(lambda x: np.nan if len(x) == 0 else x)\n",
    "exploded_subjects = subjects_series.explode()\n",
    "exploded_subjects = exploded_subjects.fillna('No Subject')\n",
    "\n",
    "# Calcolare la frequenza di ciascun soggetto, inclusi quelli etichettati come 'No Subject'\n",
    "subject_counts = exploded_subjects.value_counts()\n",
    "\n",
    "# Selezionare i primi 20 soggetti più frequenti\n",
    "top_subjects = subject_counts.head(20)\n",
    "\n",
    "# Normalizzazione delle frequenze per l'intensità del colore\n",
    "norm_freqs = top_subjects / top_subjects.max()\n",
    "\n",
    "# Generazione di colori sfumati in base alla frequenza\n",
    "colors = [plt.get_cmap('viridis')(intensity) for intensity in norm_freqs * 0.75 + 0.25]  # Assicura una certa intensità minima\n",
    "\n",
    "# Creazione del diagramma a barre\n",
    "plt.figure(figsize=(10, 8))  # Dimensione aggiustata per migliorare la leggibilità\n",
    "sns.barplot(x=top_subjects.values, y=top_subjects.index, palette=colors)  # Utilizzo di seaborn per una migliore personalizzazione\n",
    "plt.title('Top 20 Most Frequent Subjects in Dataframe Train')\n",
    "plt.xlabel('Frequency')\n",
    "plt.ylabel('Subjects')\n",
    "plt.tight_layout()  # Aggiunge spazio intorno al grafico per evitare sovrapposizioni\n",
    "plt.show()\n",
    "\n"
   ]
  },
  {
   "cell_type": "markdown",
   "metadata": {},
   "source": [
    "### Knowledge Base"
   ]
  },
  {
   "cell_type": "code",
   "execution_count": null,
   "metadata": {},
   "outputs": [],
   "source": [
    "# Crea un subset con solo le righe che hanno label 'true'\n",
    "knowledge_base = df_train[df_train['label'] == 'true']\n",
    "knowledge_base.info()"
   ]
  },
  {
   "cell_type": "code",
   "execution_count": null,
   "metadata": {},
   "outputs": [],
   "source": [
    "print(\"Valori unici in 'subjects':\")\n",
    "print(knowledge_base['subjects'].nunique())\n",
    "print(knowledge_base['subjects'].unique())"
   ]
  },
  {
   "cell_type": "code",
   "execution_count": null,
   "metadata": {},
   "outputs": [],
   "source": [
    "# Rimuovere gli spazi bianchi all'inizio e alla fine di ogni stringa e dividere per virgola\n",
    "subjects_series = knowledge_base['subjects'].dropna().str.strip().str.split(',')\n",
    "\n",
    "# Pulire ogni elemento all'interno delle liste rimuovendo spazi extra\n",
    "subjects_series = subjects_series.apply(lambda x: [i.strip() for i in x if i.strip() != ''])\n",
    "\n",
    "# Aggiungere un passaggio per sostituire le liste vuote con un valore che indica l'assenza di soggetti\n",
    "subjects_series = subjects_series.apply(lambda x: np.nan if len(x) == 0 else x)\n",
    "\n",
    "# \"Esplodere\" la serie per avere ogni soggetto come una riga separata\n",
    "exploded_subjects = subjects_series.explode()\n",
    "\n",
    "# Se ci sono state liste vuote, ora saranno NaN, quindi sostituire NaN con un placeholder\n",
    "# Se vuoi contare questi come una categoria separata, puoi sostituirli con una stringa specifica\n",
    "exploded_subjects = exploded_subjects.fillna('No Subject')\n",
    "\n",
    "# Calcolare le frequenze, inclusi i valori placeholder per le righe vuote\n",
    "subject_frequencies = exploded_subjects.value_counts()\n",
    "\n",
    "# Stampare le frequenze, che ora includono anche il conteggio per 'No Subject'\n",
    "print(subject_frequencies)\n",
    "print(len(subject_frequencies))\n"
   ]
  },
  {
   "cell_type": "code",
   "execution_count": null,
   "metadata": {},
   "outputs": [],
   "source": [
    "# Pulizia iniziale dei dati, inclusa la gestione dei soggetti vuoti\n",
    "subjects_series = knowledge_base['subjects'].dropna().str.strip().str.split(',')\n",
    "subjects_series = subjects_series.apply(lambda x: [i.strip() for i in x if i.strip() != ''])\n",
    "subjects_series = subjects_series.apply(lambda x: np.nan if len(x) == 0 else x)\n",
    "exploded_subjects = subjects_series.explode()\n",
    "exploded_subjects = exploded_subjects.fillna('No Subject')\n",
    "\n",
    "# Calcolare la frequenza di ciascun soggetto, inclusi quelli etichettati come 'No Subject'\n",
    "subject_counts = exploded_subjects.value_counts()\n",
    "\n",
    "# Selezionare i primi 20 soggetti più frequenti\n",
    "top_subjects = subject_counts.head(20)\n",
    "\n",
    "# Normalizzazione delle frequenze per l'intensità del colore\n",
    "norm_freqs = top_subjects / top_subjects.max()\n",
    "\n",
    "# Generazione di colori sfumati in base alla frequenza\n",
    "colors = [plt.get_cmap('viridis')(intensity) for intensity in norm_freqs * 0.75 + 0.25]  # Assicura una certa intensità minima\n",
    "\n",
    "# Creazione del diagramma a barre\n",
    "plt.figure(figsize=(10, 8))  # Dimensione aggiustata per migliorare la leggibilità\n",
    "sns.barplot(x=top_subjects.values, y=top_subjects.index, palette=colors)  # Utilizzo di seaborn per una migliore personalizzazione\n",
    "plt.title('Top 20 Most Frequent Subjects in Knowledge Base')\n",
    "plt.xlabel('Frequency')\n",
    "plt.ylabel('Subjects')\n",
    "plt.tight_layout()  # Aggiunge spazio intorno al grafico per evitare sovrapposizioni\n",
    "plt.show()"
   ]
  },
  {
   "cell_type": "code",
   "execution_count": null,
   "metadata": {},
   "outputs": [],
   "source": [
    "def plot_top_words(text_data, n=20, base_color='blue'):\n",
    "    vec = CountVectorizer(stop_words='english').fit(text_data)\n",
    "    bag_of_words = vec.transform(text_data)\n",
    "    sum_words = bag_of_words.sum(axis=0)\n",
    "    words_freq = [(word, sum_words[0, idx]) for word, idx in vec.vocabulary_.items()]\n",
    "    words_freq = sorted(words_freq, key=lambda x: x[1], reverse=True)[:n]\n",
    "    words, freqs = zip(*words_freq)\n",
    "    \n",
    "    # Normalizzazione delle frequenze per l'intensità del colore\n",
    "    norm_freqs = np.array(freqs) / max(freqs)\n",
    "    \n",
    "    # Generazione di colori sfumati in base alla frequenza\n",
    "    colors = [plt.get_cmap('Blues')(intensity) for intensity in norm_freqs * 0.75 + 0.25]  # Assicura una certa intensità minima\n",
    "    \n",
    "    plt.figure(figsize=(10, 8))\n",
    "    sns.barplot(x=list(freqs), y=list(words), palette=colors)  # Utilizzo di 'palette' al posto di 'color'\n",
    "    plt.title('Top 20 Most Frequent Words in Knowledge Base')\n",
    "    plt.xlabel('Frequency')\n",
    "    plt.ylabel('Words in Claim')\n",
    "    plt.show()\n",
    "\n",
    "# Applica la funzione a tutte le 'Claim' nel dataset, con sfumatura basata sulla frequenza\n",
    "all_claims = knowledge_base['claim']\n",
    "plot_top_words(all_claims, base_color='blue')  # 'base_color' non è più necessario ma mantenuto per coerenza"
   ]
  },
  {
   "cell_type": "markdown",
   "metadata": {},
   "source": [
    "### Test Dataset\n"
   ]
  },
  {
   "cell_type": "code",
   "execution_count": null,
   "metadata": {},
   "outputs": [],
   "source": [
    "df_test = pd.read_csv(r'C:\\Users\\c.farallo\\OneDrive - BE THINK, SOLVE, EXECUTE S.P.A\\Desktop\\Thesis\\PUBHEALTH\\test.tsv', sep='\\t')\n",
    "df_test.loc[1:3]"
   ]
  },
  {
   "cell_type": "code",
   "execution_count": null,
   "metadata": {},
   "outputs": [],
   "source": [
    "print(\"Valori unici in 'label':\")\n",
    "print(df_test['label'].nunique())\n",
    "print(df_test['label'].unique())"
   ]
  },
  {
   "cell_type": "code",
   "execution_count": null,
   "metadata": {},
   "outputs": [],
   "source": [
    "print(\"Valori unici in 'subjects':\")\n",
    "print(df_test['subjects'].nunique())\n",
    "print(df_test['subjects'].unique())\n",
    "true_label_count = df_test[df_test['label'] == 'true'].shape[0]\n",
    "print(f\"Numero di righe con label 'true': {true_label_count}\")"
   ]
  },
  {
   "cell_type": "code",
   "execution_count": null,
   "metadata": {},
   "outputs": [],
   "source": [
    "# Prima, convertiamo la colonna 'subjects' in una serie di liste di subjects\n",
    "subjects_series = df_test['subjects'].dropna().str.split(',')\n",
    "\n",
    "# Ora, \"esplodiamo\" questa serie in modo che ogni elemento di ogni lista diventi una riga\n",
    "exploded_subjects = subjects_series.explode()\n",
    "\n",
    "# Calcoliamo la frequenza di ogni subject unico\n",
    "subject_frequencies = exploded_subjects.value_counts()\n",
    "\n",
    "# Stampiamo le frequenze\n",
    "print(subject_frequencies)"
   ]
  },
  {
   "cell_type": "code",
   "execution_count": null,
   "metadata": {},
   "outputs": [],
   "source": [
    "# Rimuovere gli spazi bianchi all'inizio e alla fine di ogni stringa e dividere per virgola\n",
    "subjects_series = df_test['subjects'].dropna().str.strip().str.split(',')\n",
    "\n",
    "# Pulire ogni elemento all'interno delle liste rimuovendo spazi extra\n",
    "subjects_series = subjects_series.apply(lambda x: [i.strip() for i in x if i.strip() != ''])\n",
    "\n",
    "# Aggiungere un passaggio per sostituire le liste vuote con un valore che indica l'assenza di soggetti\n",
    "subjects_series = subjects_series.apply(lambda x: np.nan if len(x) == 0 else x)\n",
    "\n",
    "# \"Esplodere\" la serie per avere ogni soggetto come una riga separata\n",
    "exploded_subjects = subjects_series.explode()\n",
    "\n",
    "# Se ci sono state liste vuote, ora saranno NaN, quindi sostituire NaN con un placeholder\n",
    "# Se vuoi contare questi come una categoria separata, puoi sostituirli con una stringa specifica\n",
    "exploded_subjects = exploded_subjects.fillna('No Subject')\n",
    "\n",
    "# Calcolare le frequenze, inclusi i valori placeholder per le righe vuote\n",
    "subject_frequencies = exploded_subjects.value_counts()\n",
    "\n",
    "# Stampare le frequenze, che ora includono anche il conteggio per 'No Subject'\n",
    "print(subject_frequencies)\n",
    "print(len(subject_frequencies))"
   ]
  },
  {
   "cell_type": "code",
   "execution_count": null,
   "metadata": {},
   "outputs": [],
   "source": [
    "# Pulizia iniziale dei dati, inclusa la gestione dei soggetti vuoti\n",
    "subjects_series = df_test['subjects'].dropna().str.strip().str.split(',')\n",
    "subjects_series = subjects_series.apply(lambda x: [i.strip() for i in x if i.strip() != ''])\n",
    "subjects_series = subjects_series.apply(lambda x: np.nan if len(x) == 0 else x)\n",
    "exploded_subjects = subjects_series.explode()\n",
    "exploded_subjects = exploded_subjects.fillna('No Subject')\n",
    "\n",
    "# Calcolare la frequenza di ciascun soggetto, inclusi quelli etichettati come 'No Subject'\n",
    "subject_counts = exploded_subjects.value_counts()\n",
    "\n",
    "# Selezionare i primi 20 soggetti più frequenti\n",
    "top_subjects = subject_counts.head(20)\n",
    "\n",
    "# Normalizzazione delle frequenze per l'intensità del colore\n",
    "norm_freqs = top_subjects / top_subjects.max()\n",
    "\n",
    "# Generazione di colori sfumati in base alla frequenza\n",
    "colors = [plt.get_cmap('viridis')(intensity) for intensity in norm_freqs * 0.75 + 0.25]  # Assicura una certa intensità minima\n",
    "\n",
    "# Creazione del diagramma a barre\n",
    "plt.figure(figsize=(10, 8))  # Dimensione aggiustata per migliorare la leggibilità\n",
    "sns.barplot(x=top_subjects.values, y=top_subjects.index, palette=colors)  # Utilizzo di seaborn per una migliore personalizzazione\n",
    "plt.title('Top 20 Most Frequent Subjects in Dataframe Test')\n",
    "plt.xlabel('Frequency')\n",
    "plt.ylabel('Subjects')\n",
    "plt.tight_layout()  # Aggiunge spazio intorno al grafico per evitare sovrapposizioni\n",
    "plt.show()"
   ]
  },
  {
   "cell_type": "code",
   "execution_count": null,
   "metadata": {},
   "outputs": [],
   "source": [
    "def plot_top_words(text_data, n=20, base_color='blue'):\n",
    "    vec = CountVectorizer(stop_words='english').fit(text_data)\n",
    "    bag_of_words = vec.transform(text_data)\n",
    "    sum_words = bag_of_words.sum(axis=0)\n",
    "    words_freq = [(word, sum_words[0, idx]) for word, idx in vec.vocabulary_.items()]\n",
    "    words_freq = sorted(words_freq, key=lambda x: x[1], reverse=True)[:n]\n",
    "    words, freqs = zip(*words_freq)\n",
    "    \n",
    "    # Normalizzazione delle frequenze per l'intensità del colore\n",
    "    norm_freqs = np.array(freqs) / max(freqs)\n",
    "    \n",
    "    # Generazione di colori sfumati in base alla frequenza\n",
    "    colors = [plt.get_cmap('Blues')(intensity) for intensity in norm_freqs * 0.75 + 0.25]  # Assicura una certa intensità minima\n",
    "    \n",
    "    plt.figure(figsize=(10, 8))\n",
    "    sns.barplot(x=list(freqs), y=list(words), palette=colors)  # Utilizzo di 'palette' al posto di 'color'\n",
    "    plt.title('Top 20 Most Frequent Words in Dataframe Test')\n",
    "    plt.xlabel('Frequency')\n",
    "    plt.ylabel('Words in Claim')\n",
    "    plt.show()\n",
    "\n",
    "# Applica la funzione a tutte le 'Claim' nel dataset, con sfumatura basata sulla frequenza\n",
    "all_claims = df_test['claim']\n",
    "plot_top_words(all_claims, base_color='blue')  # 'base_color' non è più necessario ma mantenuto per coerenza"
   ]
  },
  {
   "cell_type": "markdown",
   "metadata": {},
   "source": [
    "## Save Files\n",
    "\n",
    "* Al momento non c'è nessun pre-processing e l'esplorazione è limitata; prendiamo solo i dataset che ci servono.\n",
    "\n",
    "* Prendiamo solo le colonne che ci serviranno per il progetto"
   ]
  },
  {
   "cell_type": "code",
   "execution_count": null,
   "metadata": {},
   "outputs": [],
   "source": [
    "#knowledge_base.to_csv('knowledge_base')\n",
    "#df_test.to_csv('df_test')"
   ]
  },
  {
   "cell_type": "code",
   "execution_count": null,
   "metadata": {},
   "outputs": [],
   "source": []
  }
 ],
 "metadata": {
  "kernelspec": {
   "display_name": "base",
   "language": "python",
   "name": "python3"
  },
  "language_info": {
   "codemirror_mode": {
    "name": "ipython",
    "version": 3
   },
   "file_extension": ".py",
   "mimetype": "text/x-python",
   "name": "python",
   "nbconvert_exporter": "python",
   "pygments_lexer": "ipython3",
   "version": "3.11.5"
  }
 },
 "nbformat": 4,
 "nbformat_minor": 2
}
