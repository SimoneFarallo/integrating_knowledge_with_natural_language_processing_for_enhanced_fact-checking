Nessun fuzzy match per Claim: ''Distractors' is used in the treatment of 'Maxillary hypoplasia'.' [Label: Vero]: Distractors --(MEDICAL_CONDITION_TREATED)--> Maxillary hypoplasia
Nessun fuzzy match per Claim: ''Distractors' is used in the treatment of 'Maxillary hypoplasia'.' [Label: Vero]: Maxillary hypoplasia --(DRUG_USED_FOR_TREATMENT)--> Distractors
Nessun fuzzy match per Claim: ''Distractors' is used in the treatment of 'Maxillary hypoplasia'.' [Label: Vero]: Distractors --(MEDICAL_CONDITION_TREATED)--> Maxillary hypoplasia
Nessun fuzzy match per Claim: ''Distractors' is used in the treatment of 'Maxillary hypoplasia'.' [Label: Vero]: Maxillary hypoplasia --(DRUG_USED_FOR_TREATMENT)--> Distractors
Totali per Claim ''Distractors' is used in the treatment of 'Maxillary hypoplasia'.' [Label: Vero]: Triple Matchate: 0, Triple Non Matchate: 4
----------------------------------------------------------------------------------------------------
Nessun fuzzy match per Claim: '"Dietary Proteins' intake influences the 'Acid-Base Equilibrium' in the body by providing essential acids and bases required for maintaining proper pH balance."' [Label: Vero]: pH --(FACET_OF)--> acid
Nessun fuzzy match per Claim: '"Dietary Proteins' intake influences the 'Acid-Base Equilibrium' in the body by providing essential acids and bases required for maintaining proper pH balance."' [Label: Vero]: pH balance --(FACET_OF)--> acid
Nessun fuzzy match per Claim: '"Dietary Proteins' intake influences the 'Acid-Base Equilibrium' in the body by providing essential acids and bases required for maintaining proper pH balance."' [Label: Vero]: essential acids --(HAS_PART)--> bases
Totali per Claim '"Dietary Proteins' intake influences the 'Acid-Base Equilibrium' in the body by providing essential acids and bases required for maintaining proper pH balance."' [Label: Vero]: Triple Matchate: 0, Triple Non Matchate: 3
----------------------------------------------------------------------------------------------------
Fuzzy match trovato per Claim: 'The 'Salivary scan' is located in the 'Gland'.' [Label: Vero]: Salivary scan --(LOCATION)--> Gland
Fuzzy match trovato per Claim: 'The 'Salivary scan' is located in the 'Gland'.' [Label: Vero]: Salivary scan --(PART_OF)--> Gland
Nessun fuzzy match per Claim: 'The 'Salivary scan' is located in the 'Gland'.' [Label: Vero]: Gland --(PART_OF)--> Salivary
Totali per Claim 'The 'Salivary scan' is located in the 'Gland'.' [Label: Vero]: Triple Matchate: 2, Triple Non Matchate: 1
----------------------------------------------------------------------------------------------------
Nessun fuzzy match per Claim: 'The RBM27 is located in the Cell Nucleus.' [Label: Vero]: RBM27 --(PART_OF)--> Cell Nucleus
Nessun fuzzy match per Claim: 'The RBM27 is located in the Cell Nucleus.' [Label: Vero]: Cell Nucleus --(HAS_PART)--> RBM27
Nessun fuzzy match per Claim: 'The RBM27 is located in the Cell Nucleus.' [Label: Vero]: RBM27 --(LOCATION)--> Cell Nucleus
Totali per Claim 'The RBM27 is located in the Cell Nucleus.' [Label: Vero]: Triple Matchate: 0, Triple Non Matchate: 3
----------------------------------------------------------------------------------------------------
Nessun fuzzy match per Claim: ''Hypersensitivity' enhances the activity or influence of the 'EP300 gene'.' [Label: Vero]: EP300 --(INSTANCE_OF)--> gene
Nessun fuzzy match per Claim: ''Hypersensitivity' enhances the activity or influence of the 'EP300 gene'.' [Label: Vero]: EP300 --(HAS_EFFECT)--> Hypersensitivity
Nessun fuzzy match per Claim: ''Hypersensitivity' enhances the activity or influence of the 'EP300 gene'.' [Label: Vero]: EP300 --(HAS_EFFECT)--> Hypersensitivity
Nessun fuzzy match per Claim: ''Hypersensitivity' enhances the activity or influence of the 'EP300 gene'.' [Label: Vero]: EP300 --(INSTANCE_OF)--> gene
Totali per Claim ''Hypersensitivity' enhances the activity or influence of the 'EP300 gene'.' [Label: Vero]: Triple Matchate: 0, Triple Non Matchate: 4
----------------------------------------------------------------------------------------------------
Nessun fuzzy match per Claim: '"Renal insufficiency often coexists with renal hypertension."' [Label: Vero]: renal hypertension --(HAS_CAUSE)--> Renal insufficiency
Nessun fuzzy match per Claim: '"Renal insufficiency often coexists with renal hypertension."' [Label: Vero]: Renal insufficiency --(HAS_CAUSE)--> renal hypertension
Nessun fuzzy match per Claim: '"Renal insufficiency often coexists with renal hypertension."' [Label: Vero]: renal hypertension --(HAS_EFFECT)--> Renal insufficiency
Nessun fuzzy match per Claim: '"Renal insufficiency often coexists with renal hypertension."' [Label: Vero]: Renal insufficiency --(HAS_PART)--> renal hypertension
Totali per Claim '"Renal insufficiency often coexists with renal hypertension."' [Label: Vero]: Triple Matchate: 0, Triple Non Matchate: 4
----------------------------------------------------------------------------------------------------
Nessun fuzzy match per Claim: '"Persons can become confirmed cases through the process of testing positive for a specific condition or disease."' [Label: Vero]: testing positive --(HAS_EFFECT)--> confirmed case
Nessun fuzzy match per Claim: '"Persons can become confirmed cases through the process of testing positive for a specific condition or disease."' [Label: Vero]: disease --(SUBCLASS_OF)--> condition
Nessun fuzzy match per Claim: '"Persons can become confirmed cases through the process of testing positive for a specific condition or disease."' [Label: Vero]: testing positive --(HAS_EFFECT)--> confirmed cases
Totali per Claim '"Persons can become confirmed cases through the process of testing positive for a specific condition or disease."' [Label: Vero]: Triple Matchate: 0, Triple Non Matchate: 3
----------------------------------------------------------------------------------------------------
Nessun fuzzy match per Claim: 'The Neuromedin K Receptor is located in laboratory animals.' [Label: Vero]: K Receptor --(PART_OF)--> Neuromedin
Nessun fuzzy match per Claim: 'The Neuromedin K Receptor is located in laboratory animals.' [Label: Vero]: Neuromedin K Receptor --(PART_OF)--> laboratory animal
Nessun fuzzy match per Claim: 'The Neuromedin K Receptor is located in laboratory animals.' [Label: Vero]: Neuromedin K Receptor --(PART_OF)--> laboratory animals
Totali per Claim 'The Neuromedin K Receptor is located in laboratory animals.' [Label: Vero]: Triple Matchate: 0, Triple Non Matchate: 3
----------------------------------------------------------------------------------------------------
Nessun fuzzy match per Claim: 'The antibody of Legionella pneumophila is found within various human age groups.' [Label: Vero]: Legionella pneumophila --(HAS_EFFECT)--> antibody
Nessun fuzzy match per Claim: 'The antibody of Legionella pneumophila is found within various human age groups.' [Label: Vero]: antibody --(HAS_CAUSE)--> Legionella pneumophila
Nessun fuzzy match per Claim: 'The antibody of Legionella pneumophila is found within various human age groups.' [Label: Vero]: antibody --(HAS_CAUSE)--> Legionella pneumophila
Nessun fuzzy match per Claim: 'The antibody of Legionella pneumophila is found within various human age groups.' [Label: Vero]: Legionella pneumophila --(HAS_EFFECT)--> antibody
Totali per Claim 'The antibody of Legionella pneumophila is found within various human age groups.' [Label: Vero]: Triple Matchate: 0, Triple Non Matchate: 4
----------------------------------------------------------------------------------------------------
Nessun fuzzy match per Claim: '"Antibodies are associated with the development and progression of Systemic lupus erythematosus encephalitis, a complex autoimmune disease."' [Label: Vero]: Systemic lupus erythematosus encephalitis --(SUBCLASS_OF)--> autoimmune disease
Nessun fuzzy match per Claim: '"Antibodies are associated with the development and progression of Systemic lupus erythematosus encephalitis, a complex autoimmune disease."' [Label: Vero]: Systemic lupus erythematosus encephalitis --(SUBCLASS_OF)--> complex autoimmune disease
Nessun fuzzy match per Claim: '"Antibodies are associated with the development and progression of Systemic lupus erythematosus encephalitis, a complex autoimmune disease."' [Label: Vero]: autoimmune disease --(HAS_EFFECT)--> Systemic lupus erythematosus encephalitis
Totali per Claim '"Antibodies are associated with the development and progression of Systemic lupus erythematosus encephalitis, a complex autoimmune disease."' [Label: Vero]: Triple Matchate: 0, Triple Non Matchate: 3
----------------------------------------------------------------------------------------------------
Nessun fuzzy match per Claim: '"Females' status of hearing refers to the condition or capacity in which females are able to perceive sound."' [Label: Vero]: Female' status of hearing --(FACET_OF)--> females
Nessun fuzzy match per Claim: '"Females' status of hearing refers to the condition or capacity in which females are able to perceive sound."' [Label: Vero]: Female' status of hearing --(FACET_OF)--> sound
Nessun fuzzy match per Claim: '"Females' status of hearing refers to the condition or capacity in which females are able to perceive sound."' [Label: Vero]: Female' status of hearing --(SUBCLASS_OF)--> perceive sound
Totali per Claim '"Females' status of hearing refers to the condition or capacity in which females are able to perceive sound."' [Label: Vero]: Triple Matchate: 0, Triple Non Matchate: 3
----------------------------------------------------------------------------------------------------
Nessun fuzzy match per Claim: '"Folic Acid coexists with beta-Lactams in certain pharmaceutical contexts."' [Label: Vero]: beta-Lactams --(INSTANCE_OF)--> pharmaceutical
Nessun fuzzy match per Claim: '"Folic Acid coexists with beta-Lactams in certain pharmaceutical contexts."' [Label: Vero]: beta-Lactam --(INSTANCE_OF)--> pharmaceutical
Nessun fuzzy match per Claim: '"Folic Acid coexists with beta-Lactams in certain pharmaceutical contexts."' [Label: Vero]: Folic Acid --(INSTANCE_OF)--> pharmaceutical
Totali per Claim '"Folic Acid coexists with beta-Lactams in certain pharmaceutical contexts."' [Label: Vero]: Triple Matchate: 0, Triple Non Matchate: 3
----------------------------------------------------------------------------------------------------
Nessun fuzzy match per Claim: 'The compound 'ginsenoside Rg1' acts to stimulate the effects of 'aconitine'.' [Label: Vero]: 'ginsenoside Rg1' --(INSTANCE_OF)--> compound
Nessun fuzzy match per Claim: 'The compound 'ginsenoside Rg1' acts to stimulate the effects of 'aconitine'.' [Label: Vero]: ginsenoside Rg1 --(INSTANCE_OF)--> compound
Nessun fuzzy match per Claim: 'The compound 'ginsenoside Rg1' acts to stimulate the effects of 'aconitine'.' [Label: Vero]: ginsenoside --(INSTANCE_OF)--> compound
Totali per Claim 'The compound 'ginsenoside Rg1' acts to stimulate the effects of 'aconitine'.' [Label: Vero]: Triple Matchate: 0, Triple Non Matchate: 3
----------------------------------------------------------------------------------------------------
Nessun fuzzy match per Claim: 'The fecal analysis procedure is used to diagnose digestive system disorders.' [Label: Vero]: digestive system --(SUBCLASS_OF)--> disorders
Nessun fuzzy match per Claim: 'The fecal analysis procedure is used to diagnose digestive system disorders.' [Label: Vero]: digestive system disorders --(SUBCLASS_OF)--> diagnose
Nessun fuzzy match per Claim: 'The fecal analysis procedure is used to diagnose digestive system disorders.' [Label: Vero]: digestive system --(SUBCLASS_OF)--> disorder
Totali per Claim 'The fecal analysis procedure is used to diagnose digestive system disorders.' [Label: Vero]: Triple Matchate: 0, Triple Non Matchate: 3
----------------------------------------------------------------------------------------------------
Nessun fuzzy match per Claim: '"Bile acids negatively affect the process of diffusion."' [Label: Vero]: Bile acid --(HAS_EFFECT)--> diffusion
