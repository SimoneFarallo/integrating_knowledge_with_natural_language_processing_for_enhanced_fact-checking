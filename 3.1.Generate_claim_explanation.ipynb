{
 "cells": [
  {
   "cell_type": "markdown",
   "metadata": {},
   "source": [
    "# Generation Claim & Explanation"
   ]
  },
  {
   "cell_type": "markdown",
   "metadata": {},
   "source": [
    "## Preliminary Operation"
   ]
  },
  {
   "cell_type": "code",
   "execution_count": null,
   "metadata": {},
   "outputs": [],
   "source": [
    "import pandas as pd\n",
    "import numpy as np\n",
    "import openai\n",
    "import ast\n",
    "import os\n",
    "import time"
   ]
  },
  {
   "cell_type": "code",
   "execution_count": null,
   "metadata": {},
   "outputs": [],
   "source": [
    "#pd.set_option('display.max_rows', None)\n",
    "#pd.set_option('display.width', 1000) \n",
    "pd.set_option('display.max_colwidth', None)"
   ]
  },
  {
   "cell_type": "code",
   "execution_count": null,
   "metadata": {},
   "outputs": [],
   "source": [
    "openai.api_key = ''"
   ]
  },
  {
   "cell_type": "code",
   "execution_count": null,
   "metadata": {},
   "outputs": [],
   "source": [
    "df_kb= pd.read_csv(r'df_triple_KB.csv')\n",
    "df_kb.head()"
   ]
  },
  {
   "cell_type": "code",
   "execution_count": null,
   "metadata": {},
   "outputs": [],
   "source": [
    "df_test = pd.read_csv(r'df_triple_lemma_TEST.csv')\n",
    "df_test"
   ]
  },
  {
   "cell_type": "markdown",
   "metadata": {},
   "source": [
    "### Prompt & Functions\n",
    "\n",
    "* https://arxiv.org/abs/2201.11903 -> Link paper chain of thought"
   ]
  },
  {
   "cell_type": "markdown",
   "metadata": {},
   "source": [
    "## New Claim"
   ]
  },
  {
   "cell_type": "code",
   "execution_count": null,
   "metadata": {},
   "outputs": [],
   "source": [
    "def get_new_claim(system, user_template, claim, triple):\n",
    "    formatted_triple =  \", \".join([f\"{t['subject']} {t['predicate']} {t['object']}\" for t in triple])\n",
    "    user_filled = user_template.format(\n",
    "        claim = claim,\n",
    "        triple = formatted_triple\n",
    "    )\n",
    "    response = openai.ChatCompletion.create(\n",
    "        model=\"gpt-3.5-turbo-0125\",  # Specifica il modello \n",
    "        messages=[{\"role\": \"system\", \"content\": system},\n",
    "                  {\"role\": \"user\", \"content\": user_filled}],\n",
    "        temperature=0,\n",
    "    )\n",
    "    return response.choices[0].message['content'].strip()"
   ]
  },
  {
   "cell_type": "code",
   "execution_count": null,
   "metadata": {},
   "outputs": [],
   "source": [
    "with open(\"system_claim.txt\", \"r\") as f:\n",
    "    system = f.read()\n",
    "print(system)\n",
    "with open(\"user_claim.txt\", \"r\") as f:\n",
    "    user = f.read()\n",
    "print(user)"
   ]
  },
  {
   "cell_type": "code",
   "execution_count": null,
   "metadata": {},
   "outputs": [],
   "source": [
    "for index, row in df_test.iterrows():\n",
    "    if not row['triple_REBEL']:\n",
    "        new_claim = \"Non applicabile\"\n",
    "    else:\n",
    "        triple_REBEL = ast.literal_eval(row['triple_REBEL'])\n",
    "        try:\n",
    "            new_claim = get_new_claim(system = system, user_template = user, claim = row['claim'], triple = triple_REBEL)\n",
    "            print(new_claim)\n",
    "            print(\"----------------------------------\")   \n",
    "            df_test.at[index, 'new_claim'] = new_claim\n",
    "            time.sleep(1)\n",
    "        except Exception as ex:\n",
    "            print(ex)\n",
    "            df_test.at[index, 'new_claim'] = \"ERROR\""
   ]
  },
  {
   "cell_type": "code",
   "execution_count": null,
   "metadata": {},
   "outputs": [],
   "source": [
    "for index, row in df_kb.iterrows():\n",
    "    if not row['triple_REBEL']:\n",
    "        new_claim = \"Non applicabile\"\n",
    "    else:\n",
    "        triple_REBEL = ast.literal_eval(row['triple_REBEL'])\n",
    "        try:\n",
    "            new_claim = get_new_claim(system = system, user_template = user, claim = row['claim'], triple = triple_REBEL)\n",
    "            print(new_claim)\n",
    "            print(\"----------------------------------\")   \n",
    "            df_kb.at[index, 'new_claim'] = new_claim\n",
    "            time.sleep(1)\n",
    "        except Exception as ex:\n",
    "            df_kb.at[index, 'new_claim'] = \"ERROR\""
   ]
  },
  {
   "cell_type": "code",
   "execution_count": null,
   "metadata": {},
   "outputs": [],
   "source": [
    "df_kb.info()"
   ]
  },
  {
   "cell_type": "markdown",
   "metadata": {},
   "source": [
    "## New Explanation"
   ]
  },
  {
   "cell_type": "code",
   "execution_count": null,
   "metadata": {},
   "outputs": [],
   "source": [
    "def get_new_explanation(system, user_template, claim, explanation):\n",
    "    user_filled = user_template.format(\n",
    "        claim = claim,\n",
    "        explanation = explanation\n",
    "    )\n",
    "    response = openai.ChatCompletion.create(\n",
    "        model=\"gpt-3.5-turbo-0125\",  # Specifica il moodello\n",
    "        messages=[{\"role\": \"system\", \"content\": system},\n",
    "                  {\"role\": \"user\", \"content\": user_filled}],\n",
    "        temperature=0,\n",
    "    )\n",
    "    return response.choices[0].message['content'].strip()"
   ]
  },
  {
   "cell_type": "code",
   "execution_count": null,
   "metadata": {},
   "outputs": [],
   "source": [
    "with open(\"system_explanation.txt\", \"r\") as f:\n",
    "    system = f.read()\n",
    "print(system)\n",
    "with open(\"user_explanation.txt\", \"r\") as f:\n",
    "    user = f.read()\n",
    "print(user)"
   ]
  },
  {
   "cell_type": "code",
   "execution_count": null,
   "metadata": {},
   "outputs": [],
   "source": [
    "for index, row in df_test.iterrows():    \n",
    "    try:\n",
    "        new_expl = get_new_explanation(system = system, user_template = user, claim = row['claim'], explanation = row['explanation'])\n",
    "        print(new_expl)\n",
    "        print(\"----------------------------------\")   \n",
    "        df_test.at[index, 'new_expl'] = new_expl\n",
    "    except Exception as ex:\n",
    "        print(ex)\n",
    "        df_test.at[index, 'new_expl'] = 'ERROR'"
   ]
  },
  {
   "cell_type": "code",
   "execution_count": null,
   "metadata": {},
   "outputs": [],
   "source": [
    "df_test[['claim','new_claim','explanation', 'new_expl']].head(5)\n"
   ]
  },
  {
   "cell_type": "code",
   "execution_count": null,
   "metadata": {},
   "outputs": [],
   "source": [
    "df_kb.head()"
   ]
  },
  {
   "cell_type": "code",
   "execution_count": null,
   "metadata": {},
   "outputs": [],
   "source": [
    "for index, row in df_kb.iterrows():    \n",
    "    try:\n",
    "        new_expl = get_new_explanation(system = system, user_template = user, claim = row['claim'], explanation = row['explanation'])\n",
    "        print(new_expl)\n",
    "        print(\"----------------------------------\")   \n",
    "        df_kb.at[index, 'new_expl'] = new_expl\n",
    "    except Exception as ex:\n",
    "        print(ex)\n",
    "        df_kb.at[index, 'new_expl'] = 'ERROR'"
   ]
  },
  {
   "cell_type": "markdown",
   "metadata": {},
   "source": [
    "## Save Csv"
   ]
  },
  {
   "cell_type": "code",
   "execution_count": null,
   "metadata": {},
   "outputs": [],
   "source": [
    "df_test.to_csv('df_test_generation.csv')"
   ]
  },
  {
   "cell_type": "code",
   "execution_count": null,
   "metadata": {},
   "outputs": [],
   "source": [
    "df_kb.to_csv('df_kb_generation.csv')"
   ]
  },
  {
   "cell_type": "code",
   "execution_count": null,
   "metadata": {},
   "outputs": [],
   "source": [
    "df_kb.info()"
   ]
  },
  {
   "cell_type": "code",
   "execution_count": null,
   "metadata": {},
   "outputs": [],
   "source": []
  }
 ],
 "metadata": {
  "kernelspec": {
   "display_name": "Python 3",
   "language": "python",
   "name": "python3"
  },
  "language_info": {
   "codemirror_mode": {
    "name": "ipython",
    "version": 3
   },
   "file_extension": ".py",
   "mimetype": "text/x-python",
   "name": "python",
   "nbconvert_exporter": "python",
   "pygments_lexer": "ipython3",
   "version": "3.10.0"
  }
 },
 "nbformat": 4,
 "nbformat_minor": 2
}
